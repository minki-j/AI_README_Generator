{
 "cells": [
  {
   "cell_type": "code",
   "execution_count": 2,
   "metadata": {},
   "outputs": [],
   "source": [
    "from langgraph.graph import END, StateGraph\n",
    "from langgraph.checkpoint.memory import MemorySaver\n",
    "from langchain_core.runnables import RunnablePassthrough\n",
    "from typing import TypedDict\n",
    "from app.utils.converters import to_path_map\n",
    "\n",
    "class State(TypedDict):\n",
    "    current_step: int\n",
    "    total_number_of_steps: int\n",
    "\n",
    "g = StateGraph(State)\n",
    "g.set_entry_point(\"entry\")\n",
    "\n",
    "g.add_node(\"entry\", RunnablePassthrough())\n",
    "g.add_edge(\"entry\", \"A\")\n",
    "\n",
    "g.add_node(\"A\", RunnablePassthrough())\n",
    "g.add_edge(\"A\", \"B\")\n",
    "\n",
    "g.add_node(\"B\", RunnablePassthrough())\n",
    "g.add_edge(\"B\", \"reduce_middle_step\")\n",
    "\n",
    "g.add_node(\"reduce_middle_step\", RunnablePassthrough())\n",
    "g.add_conditional_edges(\n",
    "    \"reduce_middle_step\",\n",
    "    lambda state: (\n",
    "        \"__end__\" if state[\"current_step\"] >= state[\"total_number_of_steps\"] else \"A\"\n",
    "    ),\n",
    "    to_path_map([\n",
    "        END, \"A\"\n",
    "    ])\n",
    ")\n",
    "\n",
    "main_graph = g.compile(checkpointer=MemorySaver(), interrupt_after=[\"B\"])\n",
    "\n",
    "\n",
    "with open(\"./main_graph.png\", \"wb\") as f:\n",
    "    f.write(main_graph.get_graph().draw_mermaid_png())"
   ]
  },
  {
   "cell_type": "code",
   "execution_count": 3,
   "metadata": {},
   "outputs": [],
   "source": [
    "from llama_index.core import SimpleDirectoryReader\n",
    "\n",
    "documents = SimpleDirectoryReader(\n",
    "    input_dir=\"/Users/minkijung/Documents/2PetProjects/AI_README_Generator/backend/cache/cloned_repositories/GitMeetup\",\n",
    "    required_exts=[\".py\"],\n",
    "    recursive=True,\n",
    ").load_data()"
   ]
  },
  {
   "cell_type": "code",
   "execution_count": 4,
   "metadata": {},
   "outputs": [
    {
     "name": "stdout",
     "output_type": "stream",
     "text": [
      "1\n"
     ]
    }
   ],
   "source": [
    "print(len(documents))"
   ]
  }
 ],
 "metadata": {
  "kernelspec": {
   "display_name": "gitmeetup",
   "language": "python",
   "name": "python3"
  },
  "language_info": {
   "codemirror_mode": {
    "name": "ipython",
    "version": 3
   },
   "file_extension": ".py",
   "mimetype": "text/x-python",
   "name": "python",
   "nbconvert_exporter": "python",
   "pygments_lexer": "ipython3",
   "version": "3.12.4"
  }
 },
 "nbformat": 4,
 "nbformat_minor": 2
}
