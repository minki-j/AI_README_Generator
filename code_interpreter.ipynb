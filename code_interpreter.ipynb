{
 "cells": [
  {
   "cell_type": "code",
   "execution_count": 23,
   "metadata": {},
   "outputs": [
    {
     "name": "stderr",
     "output_type": "stream",
     "text": [
      "WebSocket received error while receiving messages: no close frame received or sent\n"
     ]
    },
    {
     "name": "stderr",
     "output_type": "stream",
     "text": [
      "Exception in thread e2b-sandbox-refresh:\n",
      "Traceback (most recent call last):\n",
      "  File \"/Users/minkijung/anaconda3/envs/gitmeetup/lib/python3.12/site-packages/e2b/sandbox/sandbox_connection.py\", line 432, in _refresh\n",
      "    api.sandboxes_sandbox_id_refreshes_post(\n",
      "  File \"/Users/minkijung/anaconda3/envs/gitmeetup/lib/python3.12/site-packages/pydantic/validate_call_decorator.py\", line 59, in wrapper_function\n",
      "    return validate_call_wrapper(*args, **kwargs)\n",
      "           ^^^^^^^^^^^^^^^^^^^^^^^^^^^^^^^^^^^^^^\n",
      "  File \"/Users/minkijung/anaconda3/envs/gitmeetup/lib/python3.12/site-packages/pydantic/_internal/_validate_call.py\", line 81, in __call__\n",
      "    res = self.__pydantic_validator__.validate_python(pydantic_core.ArgsKwargs(args, kwargs))\n",
      "          ^^^^^^^^^^^^^^^^^^^^^^^^^^^^^^^^^^^^^^^^^^^^^^^^^^^^^^^^^^^^^^^^^^^^^^^^^^^^^^^^^^^\n",
      "  File \"/Users/minkijung/anaconda3/envs/gitmeetup/lib/python3.12/site-packages/e2b/api/v2/client/api/sandboxes_api.py\", line 1138, in sandboxes_sandbox_id_refreshes_post\n",
      "    return self.api_client.response_deserialize(\n",
      "           ^^^^^^^^^^^^^^^^^^^^^^^^^^^^^^^^^^^^^\n",
      "  File \"/Users/minkijung/anaconda3/envs/gitmeetup/lib/python3.12/site-packages/e2b/api/v2/client/api_client.py\", line 299, in response_deserialize\n",
      "    raise NotFoundException(http_resp=response_data)\n",
      "e2b.api.v2.client.exceptions.NotFoundException: (404)\n",
      "Reason: Not Found\n",
      "HTTP response headers: HTTPHeaderDict({'content-type': 'application/json; charset=utf-8', 'date': 'Wed, 18 Sep 2024 21:00:37 GMT', 'Content-Length': '97', 'via': '1.1 google', 'Alt-Svc': 'h3=\":443\"; ma=2592000,h3-29=\":443\"; ma=2592000', 'Connection': 'close'})\n",
      "HTTP response body: {\"code\":404,\"message\":\"Error refreshing sandbox - sandbox 'idqt5hia8ertuobfagg1k' was not found\"}\n",
      "\n",
      "\n",
      "The above exception was the direct cause of the following exception:\n",
      "\n",
      "Traceback (most recent call last):\n",
      "  File \"/Users/minkijung/anaconda3/envs/gitmeetup/lib/python3.12/threading.py\", line 1073, in _bootstrap_inner\n",
      "    self.run()\n",
      "  File \"/Users/minkijung/anaconda3/envs/gitmeetup/lib/python3.12/site-packages/ipykernel/ipkernel.py\", line 766, in run_closure\n",
      "    _threading_Thread_run(self)\n",
      "  File \"/Users/minkijung/anaconda3/envs/gitmeetup/lib/python3.12/threading.py\", line 1010, in run\n",
      "    self._target(*self._args, **self._kwargs)\n",
      "  File \"/Users/minkijung/anaconda3/envs/gitmeetup/lib/python3.12/site-packages/e2b/sandbox/sandbox_connection.py\", line 439, in _refresh\n",
      "    raise SandboxException(\n",
      "e2b.sandbox.exception.SandboxException: Sandbox idqt5hia8ertuobfagg1k-b0b684e9 failed because it cannot be found\n"
     ]
    }
   ],
   "source": [
    "from e2b_code_interpreter import CodeInterpreter\n",
    "\n",
    "sb = CodeInterpreter()\n"
   ]
  },
  {
   "cell_type": "code",
   "execution_count": 32,
   "metadata": {},
   "outputs": [
    {
     "data": {
      "text/plain": [
       "Execution(results=[], logs=Logs(stdout=['1\\n', '2\\n', '3\\n'], stderr=[]), error=None, execution_count=9)"
      ]
     },
     "execution_count": 32,
     "metadata": {},
     "output_type": "execute_result"
    }
   ],
   "source": [
    "sb.notebook.exec_cell(\n",
    "    \"\"\"\n",
    "import time\n",
    "def print_delay():\n",
    "    print(\"1\")\n",
    "    time.sleep(1)\n",
    "    print(\"2\")\n",
    "    time.sleep(1)\n",
    "    print(\"3\")\n",
    "print_delay()\"\"\",\n",
    "    on_stdout=lambda stdout: print(\"\\n[Code Interpreter stderr]\", stdout),\n",
    ")"
   ]
  },
  {
   "cell_type": "code",
   "execution_count": 14,
   "metadata": {},
   "outputs": [
    {
     "name": "stderr",
     "output_type": "stream",
     "text": [
      "Exception in thread e2b-code-interpreter-websocket:\n",
      "Traceback (most recent call last):\n",
      "  File \"/Users/minkijung/anaconda3/envs/gitmeetup/lib/python3.12/site-packages/e2b/sandbox/websocket_client.py\", line 133, in __aiter__\n",
      "    async with self as protocol:\n",
      "  File \"/Users/minkijung/anaconda3/envs/gitmeetup/lib/python3.12/site-packages/websockets/legacy/client.py\", line 629, in __aenter__\n",
      "    return await self\n",
      "           ^^^^^^^^^^\n",
      "  File \"/Users/minkijung/anaconda3/envs/gitmeetup/lib/python3.12/site-packages/websockets/legacy/client.py\", line 647, in __await_impl_timeout__\n",
      "    return await self.__await_impl__()\n",
      "           ^^^^^^^^^^^^^^^^^^^^^^^^^^^\n",
      "  File \"/Users/minkijung/anaconda3/envs/gitmeetup/lib/python3.12/site-packages/websockets/legacy/client.py\", line 654, in __await_impl__\n",
      "    await protocol.handshake(\n",
      "  File \"/Users/minkijung/anaconda3/envs/gitmeetup/lib/python3.12/site-packages/websockets/legacy/client.py\", line 325, in handshake\n",
      "    raise InvalidStatusCode(status_code, response_headers)\n",
      "websockets.exceptions.InvalidStatusCode: server rejected WebSocket connection: HTTP 404\n",
      "\n",
      "During handling of the above exception, another exception occurred:\n",
      "\n",
      "Traceback (most recent call last):\n",
      "  File \"/Users/minkijung/anaconda3/envs/gitmeetup/lib/python3.12/threading.py\", line 1073, in _bootstrap_inner\n",
      "    self.run()\n",
      "  File \"/Users/minkijung/anaconda3/envs/gitmeetup/lib/python3.12/site-packages/ipykernel/ipkernel.py\", line 766, in run_closure\n",
      "    _threading_Thread_run(self)\n",
      "  File \"/Users/minkijung/anaconda3/envs/gitmeetup/lib/python3.12/threading.py\", line 1010, in run\n",
      "    self._target(*self._args, **self._kwargs)\n",
      "  File \"/Users/minkijung/anaconda3/envs/gitmeetup/lib/python3.12/site-packages/e2b/sandbox/websocket_client.py\", line 41, in run\n",
      "    loop.run_until_complete(self.async_run())\n",
      "  File \"/Users/minkijung/anaconda3/envs/gitmeetup/lib/python3.12/asyncio/base_events.py\", line 687, in run_until_complete\n",
      "    return future.result()\n",
      "           ^^^^^^^^^^^^^^^\n",
      "  File \"/Users/minkijung/anaconda3/envs/gitmeetup/lib/python3.12/site-packages/e2b/sandbox/websocket_client.py\", line 44, in async_run\n",
      "    await self._connect()\n",
      "  File \"/Users/minkijung/anaconda3/envs/gitmeetup/lib/python3.12/site-packages/e2b/sandbox/websocket_client.py\", line 90, in _connect\n",
      "    async for websocket in websocket_connector:\n",
      "  File \"/Users/minkijung/anaconda3/envs/gitmeetup/lib/python3.12/site-packages/e2b/sandbox/websocket_client.py\", line 138, in __aiter__\n",
      "    raise SandboxException(\"Failed to connect to the server\")\n",
      "e2b.sandbox.exception.SandboxException: Failed to connect to the server\n"
     ]
    },
    {
     "ename": "Exception",
     "evalue": "WebSocket failed to start: ",
     "output_type": "error",
     "traceback": [
      "\u001b[0;31m---------------------------------------------------------------------------\u001b[0m",
      "\u001b[0;31mKeyboardInterrupt\u001b[0m                         Traceback (most recent call last)",
      "File \u001b[0;32m~/anaconda3/envs/gitmeetup/lib/python3.12/site-packages/e2b_code_interpreter/messaging.py:96\u001b[0m, in \u001b[0;36mJupyterKernelWebSocket.connect\u001b[0;34m(self, timeout)\u001b[0m\n\u001b[1;32m     91\u001b[0m \u001b[38;5;28;01mwhile\u001b[39;00m (\n\u001b[1;32m     92\u001b[0m     \u001b[38;5;129;01mnot\u001b[39;00m started\u001b[38;5;241m.\u001b[39mis_set()\n\u001b[1;32m     93\u001b[0m     \u001b[38;5;129;01mand\u001b[39;00m time\u001b[38;5;241m.\u001b[39mtime() \u001b[38;5;241m-\u001b[39m start_time \u001b[38;5;241m<\u001b[39m timeout\n\u001b[1;32m     94\u001b[0m     \u001b[38;5;129;01mand\u001b[39;00m \u001b[38;5;129;01mnot\u001b[39;00m \u001b[38;5;28mself\u001b[39m\u001b[38;5;241m.\u001b[39m_stopped\u001b[38;5;241m.\u001b[39mis_set()\n\u001b[1;32m     95\u001b[0m ):\n\u001b[0;32m---> 96\u001b[0m     \u001b[43mtime\u001b[49m\u001b[38;5;241;43m.\u001b[39;49m\u001b[43msleep\u001b[49m\u001b[43m(\u001b[49m\u001b[38;5;241;43m0.1\u001b[39;49m\u001b[43m)\u001b[49m\n\u001b[1;32m     98\u001b[0m \u001b[38;5;28;01mif\u001b[39;00m \u001b[38;5;129;01mnot\u001b[39;00m started\u001b[38;5;241m.\u001b[39mis_set():\n",
      "\u001b[0;31mKeyboardInterrupt\u001b[0m: ",
      "\nThe above exception was the direct cause of the following exception:\n",
      "\u001b[0;31mException\u001b[0m                                 Traceback (most recent call last)",
      "Cell \u001b[0;32mIn[14], line 1\u001b[0m\n\u001b[0;32m----> 1\u001b[0m \u001b[43msb\u001b[49m\u001b[38;5;241;43m.\u001b[39;49m\u001b[43mnotebook\u001b[49m\u001b[38;5;241;43m.\u001b[39;49m\u001b[43mexec_cell\u001b[49m\u001b[43m(\u001b[49m\u001b[38;5;124;43m\"\u001b[39;49m\u001b[38;5;124;43mprint(\u001b[39;49m\u001b[38;5;124;43m'\u001b[39;49m\u001b[38;5;124;43mhello world\u001b[39;49m\u001b[38;5;124;43m'\u001b[39;49m\u001b[38;5;124;43m)\u001b[39;49m\u001b[38;5;124;43m\"\u001b[39;49m\u001b[43m,\u001b[49m\u001b[43m \u001b[49m\u001b[38;5;124;43m\"\u001b[39;49m\u001b[38;5;124;43mil23b25cxmm5hljlzjix7-b0b684e9\u001b[39;49m\u001b[38;5;124;43m\"\u001b[39;49m\u001b[43m)\u001b[49m\n",
      "File \u001b[0;32m~/anaconda3/envs/gitmeetup/lib/python3.12/site-packages/e2b_code_interpreter/main.py:96\u001b[0m, in \u001b[0;36mJupyterExtension.exec_cell\u001b[0;34m(self, code, kernel_id, on_stdout, on_stderr, on_result, timeout)\u001b[0m\n\u001b[1;32m     94\u001b[0m \u001b[38;5;28;01melse\u001b[39;00m:\n\u001b[1;32m     95\u001b[0m     logger\u001b[38;5;241m.\u001b[39mdebug(\u001b[38;5;124mf\u001b[39m\u001b[38;5;124m\"\u001b[39m\u001b[38;5;124mCreating new websocket connection to kernel \u001b[39m\u001b[38;5;132;01m{\u001b[39;00mkernel_id\u001b[38;5;132;01m}\u001b[39;00m\u001b[38;5;124m\"\u001b[39m)\n\u001b[0;32m---> 96\u001b[0m     ws \u001b[38;5;241m=\u001b[39m \u001b[38;5;28;43mself\u001b[39;49m\u001b[38;5;241;43m.\u001b[39;49m\u001b[43m_connect_to_kernel_ws\u001b[49m\u001b[43m(\u001b[49m\u001b[43mkernel_id\u001b[49m\u001b[43m,\u001b[49m\u001b[43m \u001b[49m\u001b[38;5;28;43;01mNone\u001b[39;49;00m\u001b[43m,\u001b[49m\u001b[43m \u001b[49m\u001b[43mtimeout\u001b[49m\u001b[38;5;241;43m=\u001b[39;49m\u001b[43mtimeout\u001b[49m\u001b[43m)\u001b[49m\n\u001b[1;32m     98\u001b[0m message_id \u001b[38;5;241m=\u001b[39m ws\u001b[38;5;241m.\u001b[39msend_execution_message(code, on_stdout, on_stderr, on_result)\n\u001b[1;32m     99\u001b[0m logger\u001b[38;5;241m.\u001b[39mdebug(\n\u001b[1;32m    100\u001b[0m     \u001b[38;5;124mf\u001b[39m\u001b[38;5;124m\"\u001b[39m\u001b[38;5;124mSent execution message to kernel \u001b[39m\u001b[38;5;132;01m{\u001b[39;00mkernel_id\u001b[38;5;132;01m}\u001b[39;00m\u001b[38;5;124m, message_id: \u001b[39m\u001b[38;5;132;01m{\u001b[39;00mmessage_id\u001b[38;5;132;01m}\u001b[39;00m\u001b[38;5;124m\"\u001b[39m\n\u001b[1;32m    101\u001b[0m )\n",
      "File \u001b[0;32m~/anaconda3/envs/gitmeetup/lib/python3.12/site-packages/e2b_code_interpreter/main.py:279\u001b[0m, in \u001b[0;36mJupyterExtension._connect_to_kernel_ws\u001b[0;34m(self, kernel_id, session_id, timeout)\u001b[0m\n\u001b[1;32m    273\u001b[0m session_id \u001b[38;5;241m=\u001b[39m session_id \u001b[38;5;129;01mor\u001b[39;00m \u001b[38;5;28mstr\u001b[39m(uuid\u001b[38;5;241m.\u001b[39muuid4())\n\u001b[1;32m    274\u001b[0m ws \u001b[38;5;241m=\u001b[39m JupyterKernelWebSocket(\n\u001b[1;32m    275\u001b[0m     url\u001b[38;5;241m=\u001b[39m\u001b[38;5;124mf\u001b[39m\u001b[38;5;124m\"\u001b[39m\u001b[38;5;132;01m{\u001b[39;00m\u001b[38;5;28mself\u001b[39m\u001b[38;5;241m.\u001b[39m_sandbox\u001b[38;5;241m.\u001b[39mget_protocol(\u001b[38;5;124m'\u001b[39m\u001b[38;5;124mws\u001b[39m\u001b[38;5;124m'\u001b[39m)\u001b[38;5;132;01m}\u001b[39;00m\u001b[38;5;124m://\u001b[39m\u001b[38;5;132;01m{\u001b[39;00m\u001b[38;5;28mself\u001b[39m\u001b[38;5;241m.\u001b[39m_sandbox\u001b[38;5;241m.\u001b[39mget_hostname(\u001b[38;5;241m8888\u001b[39m)\u001b[38;5;132;01m}\u001b[39;00m\u001b[38;5;124m/api/kernels/\u001b[39m\u001b[38;5;132;01m{\u001b[39;00mkernel_id\u001b[38;5;132;01m}\u001b[39;00m\u001b[38;5;124m/channels\u001b[39m\u001b[38;5;124m\"\u001b[39m,\n\u001b[1;32m    276\u001b[0m     session_id\u001b[38;5;241m=\u001b[39msession_id\n\u001b[1;32m    277\u001b[0m )\n\u001b[0;32m--> 279\u001b[0m \u001b[43mws\u001b[49m\u001b[38;5;241;43m.\u001b[39;49m\u001b[43mconnect\u001b[49m\u001b[43m(\u001b[49m\u001b[43mtimeout\u001b[49m\u001b[38;5;241;43m=\u001b[39;49m\u001b[43mtimeout\u001b[49m\u001b[43m)\u001b[49m\n\u001b[1;32m    280\u001b[0m logger\u001b[38;5;241m.\u001b[39mdebug(\u001b[38;5;124mf\u001b[39m\u001b[38;5;124m\"\u001b[39m\u001b[38;5;124mConnected to kernel\u001b[39m\u001b[38;5;124m'\u001b[39m\u001b[38;5;124ms (\u001b[39m\u001b[38;5;132;01m{\u001b[39;00mkernel_id\u001b[38;5;132;01m}\u001b[39;00m\u001b[38;5;124m) websocket.\u001b[39m\u001b[38;5;124m\"\u001b[39m)\n\u001b[1;32m    282\u001b[0m future\u001b[38;5;241m.\u001b[39mset_result(ws)\n",
      "File \u001b[0;32m~/anaconda3/envs/gitmeetup/lib/python3.12/site-packages/e2b_code_interpreter/messaging.py:102\u001b[0m, in \u001b[0;36mJupyterKernelWebSocket.connect\u001b[0;34m(self, timeout)\u001b[0m\n\u001b[1;32m    100\u001b[0m \u001b[38;5;28;01mexcept\u001b[39;00m \u001b[38;5;167;01mBaseException\u001b[39;00m \u001b[38;5;28;01mas\u001b[39;00m e:\n\u001b[1;32m    101\u001b[0m     \u001b[38;5;28mself\u001b[39m\u001b[38;5;241m.\u001b[39mclose()\n\u001b[0;32m--> 102\u001b[0m     \u001b[38;5;28;01mraise\u001b[39;00m \u001b[38;5;167;01mException\u001b[39;00m(\u001b[38;5;124mf\u001b[39m\u001b[38;5;124m\"\u001b[39m\u001b[38;5;124mWebSocket failed to start: \u001b[39m\u001b[38;5;132;01m{\u001b[39;00me\u001b[38;5;132;01m}\u001b[39;00m\u001b[38;5;124m\"\u001b[39m) \u001b[38;5;28;01mfrom\u001b[39;00m \u001b[38;5;21;01me\u001b[39;00m\n\u001b[1;32m    104\u001b[0m logger\u001b[38;5;241m.\u001b[39mdebug(\u001b[38;5;124m\"\u001b[39m\u001b[38;5;124mWebSocket started\u001b[39m\u001b[38;5;124m\"\u001b[39m)\n",
      "\u001b[0;31mException\u001b[0m: WebSocket failed to start: "
     ]
    }
   ],
   "source": [
    "sb.notebook.exec_cell(\"print('hello world')\", \"il23b25cxmm5hljlzjix7-b0b684e9\")"
   ]
  },
  {
   "cell_type": "code",
   "execution_count": null,
   "metadata": {},
   "outputs": [],
   "source": []
  },
  {
   "cell_type": "code",
   "execution_count": 25,
   "metadata": {},
   "outputs": [],
   "source": [
    "from e2b import Sandbox\n",
    "\n",
    "# Create sandbox\n",
    "sandbox = Sandbox()"
   ]
  },
  {
   "cell_type": "code",
   "execution_count": null,
   "metadata": {},
   "outputs": [],
   "source": [
    "from e2b_code_interpreter import CodeInterpreter\n",
    "\n",
    "with CodeInterpreter() as sandbox:\n",
    "    sandbox.notebook.exec_cell(\"x = 1\")\n",
    "\n",
    "    execution = sandbox.notebook.exec_cell(\"x+=1; x\")\n",
    "    print(execution.text)  # outputs 2"
   ]
  },
  {
   "cell_type": "code",
   "execution_count": null,
   "metadata": {},
   "outputs": [],
   "source": []
  }
 ],
 "metadata": {
  "kernelspec": {
   "display_name": "gitmeetup",
   "language": "python",
   "name": "python3"
  },
  "language_info": {
   "codemirror_mode": {
    "name": "ipython",
    "version": 3
   },
   "file_extension": ".py",
   "mimetype": "text/x-python",
   "name": "python",
   "nbconvert_exporter": "python",
   "pygments_lexer": "ipython3",
   "version": "3.12.4"
  }
 },
 "nbformat": 4,
 "nbformat_minor": 2
}
